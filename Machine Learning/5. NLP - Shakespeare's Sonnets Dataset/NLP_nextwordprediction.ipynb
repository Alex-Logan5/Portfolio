{
 "cells": [
  {
   "attachments": {},
   "cell_type": "markdown",
   "metadata": {},
   "source": [
    "# NLP - Next Word Prediction"
   ]
  },
  {
   "cell_type": "code",
   "execution_count": 1,
   "metadata": {},
   "outputs": [],
   "source": [
    "import numpy as np \n",
    "import tensorflow as tf\n",
    "import matplotlib.pyplot as plt\n",
    "from tensorflow.keras.models import Sequential\n",
    "from tensorflow.keras.utils import to_categorical \n",
    "from tensorflow.keras.preprocessing.text import Tokenizer\n",
    "from tensorflow.keras.preprocessing.sequence import pad_sequences\n",
    "from tensorflow.keras.layers import Embedding, LSTM, Dense, Bidirectional"
   ]
  },
  {
   "attachments": {},
   "cell_type": "markdown",
   "metadata": {},
   "source": [
    "# Read the data and Tokenize the texts"
   ]
  },
  {
   "cell_type": "code",
   "execution_count": 2,
   "metadata": {},
   "outputs": [
    {
     "name": "stdout",
     "output_type": "stream",
     "text": [
      "There are 2159 lines of sonnets\n",
      "\n",
      "The first 5 lines look like this:\n",
      "\n",
      "from fairest creatures we desire increase,\n",
      "that thereby beauty's rose might never die,\n",
      "but as the riper should by time decease,\n",
      "his tender heir might bear his memory:\n",
      "but thou, contracted to thine own bright eyes,\n"
     ]
    }
   ],
   "source": [
    "# Define path for file containing sonnets\n",
    "SONNETS_FILE = \"C:/Users/Alexl/OneDrive/Documents/Work/Portfolio Projects/5. NLP - Shakespeare's Sonnets Dataset/sonnets.txt\"\n",
    "\n",
    "with open(SONNETS_FILE, encoding = 'utf8') as f:\n",
    "    data = f.read()\n",
    "\n",
    "# Convert to lower case and save as a list\n",
    "corpus = data.lower().split(\"\\n\")\n",
    "\n",
    "print(f\"There are {len(corpus)} lines of sonnets\\n\")\n",
    "print(f\"The first 5 lines look like this:\\n\")\n",
    "for i in range(5):\n",
    "  print(corpus[i])"
   ]
  },
  {
   "cell_type": "code",
   "execution_count": 3,
   "metadata": {},
   "outputs": [],
   "source": [
    "tokenizer = Tokenizer()\n",
    "tokenizer.fit_on_texts(corpus)\n",
    "total_words = len(tokenizer.word_index) + 1"
   ]
  },
  {
   "attachments": {},
   "cell_type": "markdown",
   "metadata": {},
   "source": [
    "# Sequence the texts and pad the sequences"
   ]
  },
  {
   "cell_type": "code",
   "execution_count": 4,
   "metadata": {},
   "outputs": [
    {
     "name": "stdout",
     "output_type": "stream",
     "text": [
      "n_grams of input_sequences have length: 15462\n",
      "maximum length of sequences is: 11\n"
     ]
    }
   ],
   "source": [
    "def n_gram_seqs(corpus, tokenizer):\n",
    "    \"\"\"\n",
    "    Generates a list of n-gram sequences\n",
    "    \n",
    "    Args:\n",
    "        corpus (list of string): lines of texts to generate n-grams for\n",
    "        tokenizer (object): an instance of the Tokenizer class containing the word-index dictionary\n",
    "    \n",
    "    Returns:\n",
    "        input_sequences (list of int): the n-gram sequences for each line in the corpus\n",
    "    \"\"\"\n",
    "    input_sequences = []\n",
    "    \n",
    "    for line in corpus:\n",
    "      token_list = tokenizer.texts_to_sequences([line])[0]\n",
    "      for i in range(1, len(token_list)):\n",
    "        n_gram_sequence = token_list[:i+1]\n",
    "        input_sequences.append(n_gram_sequence)\n",
    "   \n",
    "    return input_sequences\n",
    "\n",
    "# Apply the n_gram_seqs transformation to the corpus\n",
    "input_sequences = n_gram_seqs(corpus, tokenizer)\n",
    "\n",
    "# Save max length \n",
    "max_sequence_len = max([len(x) for x in input_sequences])\n",
    "\n",
    "print(f\"n_grams of input_sequences have length: {len(input_sequences)}\")\n",
    "print(f\"maximum length of sequences is: {max_sequence_len}\")"
   ]
  },
  {
   "cell_type": "code",
   "execution_count": 5,
   "metadata": {},
   "outputs": [
    {
     "name": "stdout",
     "output_type": "stream",
     "text": [
      "padded corpus has shape: (15462, 11)\n"
     ]
    }
   ],
   "source": [
    "def pad_seqs(input_sequences, maxlen):\n",
    "    \"\"\"\n",
    "    Pads tokenized sequences to the same length\n",
    "    \n",
    "    Args:\n",
    "        input_sequences (list of int): tokenized sequences to pad\n",
    "        maxlen (int): maximum length of the token sequences\n",
    "    \n",
    "    Returns:\n",
    "        padded_sequences (array of int): tokenized sequences padded to the same length\n",
    "    \"\"\"\n",
    "    padded_sequences = pad_sequences(input_sequences, padding = 'pre', maxlen = maxlen)\n",
    "    \n",
    "    return padded_sequences\n",
    "\n",
    "# Pad the corpus\n",
    "input_sequences = pad_seqs(input_sequences, max_sequence_len)\n",
    "\n",
    "print(f\"padded corpus has shape: {input_sequences.shape}\")"
   ]
  },
  {
   "attachments": {},
   "cell_type": "markdown",
   "metadata": {},
   "source": [
    "# Split the data into features and labels"
   ]
  },
  {
   "cell_type": "code",
   "execution_count": 6,
   "metadata": {},
   "outputs": [
    {
     "name": "stdout",
     "output_type": "stream",
     "text": [
      "features have shape: (15462, 10)\n",
      "labels have shape: (15462, 3211)\n"
     ]
    }
   ],
   "source": [
    "def features_and_labels(input_sequences, total_words):\n",
    "    \"\"\"\n",
    "    Generates features and labels from n-grams\n",
    "    \n",
    "    Args:\n",
    "        input_sequences (list of int): sequences to split features and labels from\n",
    "        total_words (int): vocabulary size\n",
    "    \n",
    "    Returns:\n",
    "        features, one_hot_labels (array of int, array of int): arrays of features and one-hot encoded labels\n",
    "    \"\"\"\n",
    "    features = input_sequences[:,:-1]\n",
    "    labels = input_sequences[:,-1]\n",
    "    one_hot_labels = to_categorical(labels, num_classes = total_words)\n",
    "\n",
    "    return features, one_hot_labels\n",
    "\n",
    "# Split the corpus\n",
    "features, labels = features_and_labels(input_sequences, total_words)\n",
    "\n",
    "print(f\"features have shape: {features.shape}\")\n",
    "print(f\"labels have shape: {labels.shape}\")"
   ]
  },
  {
   "attachments": {},
   "cell_type": "markdown",
   "metadata": {},
   "source": [
    "# Convolution + Bidirectional LSTM Model"
   ]
  },
  {
   "cell_type": "code",
   "execution_count": 7,
   "metadata": {},
   "outputs": [
    {
     "name": "stdout",
     "output_type": "stream",
     "text": [
      "Model: \"sequential\"\n",
      "_________________________________________________________________\n",
      " Layer (type)                Output Shape              Param #   \n",
      "=================================================================\n",
      " embedding (Embedding)       (None, 10, 100)           321100    \n",
      "                                                                 \n",
      " conv1d (Conv1D)             (None, 6, 128)            64128     \n",
      "                                                                 \n",
      " max_pooling1d (MaxPooling1D  (None, 3, 128)           0         \n",
      " )                                                               \n",
      "                                                                 \n",
      " bidirectional (Bidirectiona  (None, 256)              263168    \n",
      " l)                                                              \n",
      "                                                                 \n",
      " dense (Dense)               (None, 3211)              825227    \n",
      "                                                                 \n",
      "=================================================================\n",
      "Total params: 1,473,623\n",
      "Trainable params: 1,473,623\n",
      "Non-trainable params: 0\n",
      "_________________________________________________________________\n",
      "Epoch 1/50\n",
      "484/484 [==============================] - 6s 8ms/step - loss: 6.9170 - accuracy: 0.0215\n",
      "Epoch 2/50\n",
      "484/484 [==============================] - 4s 8ms/step - loss: 6.4999 - accuracy: 0.0266\n",
      "Epoch 3/50\n",
      "484/484 [==============================] - 4s 8ms/step - loss: 6.2614 - accuracy: 0.0318\n",
      "Epoch 4/50\n",
      "484/484 [==============================] - 4s 8ms/step - loss: 5.9803 - accuracy: 0.0411\n",
      "Epoch 5/50\n",
      "484/484 [==============================] - 4s 8ms/step - loss: 5.6742 - accuracy: 0.0499\n",
      "Epoch 6/50\n",
      "484/484 [==============================] - 4s 8ms/step - loss: 5.3109 - accuracy: 0.0665\n",
      "Epoch 7/50\n",
      "484/484 [==============================] - 4s 8ms/step - loss: 4.8903 - accuracy: 0.0944\n",
      "Epoch 8/50\n",
      "484/484 [==============================] - 4s 8ms/step - loss: 4.4411 - accuracy: 0.1519\n",
      "Epoch 9/50\n",
      "484/484 [==============================] - 4s 8ms/step - loss: 3.9738 - accuracy: 0.2218\n",
      "Epoch 10/50\n",
      "484/484 [==============================] - 4s 8ms/step - loss: 3.5300 - accuracy: 0.3051\n",
      "Epoch 11/50\n",
      "484/484 [==============================] - 4s 8ms/step - loss: 3.1177 - accuracy: 0.3844\n",
      "Epoch 12/50\n",
      "484/484 [==============================] - 4s 8ms/step - loss: 2.7561 - accuracy: 0.4573\n",
      "Epoch 13/50\n",
      "484/484 [==============================] - 4s 8ms/step - loss: 2.4465 - accuracy: 0.5169\n",
      "Epoch 14/50\n",
      "484/484 [==============================] - 4s 8ms/step - loss: 2.1721 - accuracy: 0.5724\n",
      "Epoch 15/50\n",
      "484/484 [==============================] - 4s 8ms/step - loss: 1.9301 - accuracy: 0.6205\n",
      "Epoch 16/50\n",
      "484/484 [==============================] - 4s 8ms/step - loss: 1.7173 - accuracy: 0.6627\n",
      "Epoch 17/50\n",
      "484/484 [==============================] - 4s 8ms/step - loss: 1.5336 - accuracy: 0.7005\n",
      "Epoch 18/50\n",
      "484/484 [==============================] - 4s 8ms/step - loss: 1.3735 - accuracy: 0.7325\n",
      "Epoch 19/50\n",
      "484/484 [==============================] - 4s 8ms/step - loss: 1.2381 - accuracy: 0.7603\n",
      "Epoch 20/50\n",
      "484/484 [==============================] - 4s 8ms/step - loss: 1.1216 - accuracy: 0.7790\n",
      "Epoch 21/50\n",
      "484/484 [==============================] - 4s 8ms/step - loss: 1.0240 - accuracy: 0.7965\n",
      "Epoch 22/50\n",
      "484/484 [==============================] - 4s 9ms/step - loss: 0.9444 - accuracy: 0.8081\n",
      "Epoch 23/50\n",
      "484/484 [==============================] - 4s 8ms/step - loss: 0.8784 - accuracy: 0.8180\n",
      "Epoch 24/50\n",
      "484/484 [==============================] - 4s 8ms/step - loss: 0.8242 - accuracy: 0.8238\n",
      "Epoch 25/50\n",
      "484/484 [==============================] - 4s 8ms/step - loss: 0.7805 - accuracy: 0.8311\n",
      "Epoch 26/50\n",
      "484/484 [==============================] - 4s 8ms/step - loss: 0.7468 - accuracy: 0.8351\n",
      "Epoch 27/50\n",
      "484/484 [==============================] - 4s 8ms/step - loss: 0.7119 - accuracy: 0.8384\n",
      "Epoch 28/50\n",
      "484/484 [==============================] - 4s 8ms/step - loss: 0.6887 - accuracy: 0.8401\n",
      "Epoch 29/50\n",
      "484/484 [==============================] - 4s 8ms/step - loss: 0.6692 - accuracy: 0.8430\n",
      "Epoch 30/50\n",
      "484/484 [==============================] - 4s 8ms/step - loss: 0.6492 - accuracy: 0.8454\n",
      "Epoch 31/50\n",
      "484/484 [==============================] - 4s 8ms/step - loss: 0.6369 - accuracy: 0.8465\n",
      "Epoch 32/50\n",
      "484/484 [==============================] - 4s 8ms/step - loss: 0.6220 - accuracy: 0.8471\n",
      "Epoch 33/50\n",
      "484/484 [==============================] - 4s 8ms/step - loss: 0.6126 - accuracy: 0.8477\n",
      "Epoch 34/50\n",
      "484/484 [==============================] - 4s 8ms/step - loss: 0.6064 - accuracy: 0.8479\n",
      "Epoch 35/50\n",
      "484/484 [==============================] - 4s 8ms/step - loss: 0.5963 - accuracy: 0.8489\n",
      "Epoch 36/50\n",
      "484/484 [==============================] - 4s 8ms/step - loss: 0.5886 - accuracy: 0.8491\n",
      "Epoch 37/50\n",
      "484/484 [==============================] - 4s 8ms/step - loss: 0.5829 - accuracy: 0.8496\n",
      "Epoch 38/50\n",
      "484/484 [==============================] - 4s 8ms/step - loss: 0.5788 - accuracy: 0.8487\n",
      "Epoch 39/50\n",
      "484/484 [==============================] - 4s 8ms/step - loss: 0.5748 - accuracy: 0.8497\n",
      "Epoch 40/50\n",
      "484/484 [==============================] - 4s 8ms/step - loss: 0.5752 - accuracy: 0.8487\n",
      "Epoch 41/50\n",
      "484/484 [==============================] - 4s 8ms/step - loss: 0.5673 - accuracy: 0.8491\n",
      "Epoch 42/50\n",
      "484/484 [==============================] - 4s 8ms/step - loss: 0.5621 - accuracy: 0.8494\n",
      "Epoch 43/50\n",
      "484/484 [==============================] - 4s 8ms/step - loss: 0.5679 - accuracy: 0.8473\n",
      "Epoch 44/50\n",
      "484/484 [==============================] - 4s 8ms/step - loss: 0.5600 - accuracy: 0.8472\n",
      "Epoch 45/50\n",
      "484/484 [==============================] - 4s 9ms/step - loss: 0.5546 - accuracy: 0.8501\n",
      "Epoch 46/50\n",
      "484/484 [==============================] - 4s 9ms/step - loss: 0.5511 - accuracy: 0.8481\n",
      "Epoch 47/50\n",
      "484/484 [==============================] - 4s 8ms/step - loss: 0.5467 - accuracy: 0.8500\n",
      "Epoch 48/50\n",
      "484/484 [==============================] - 4s 8ms/step - loss: 0.5471 - accuracy: 0.8498\n",
      "Epoch 49/50\n",
      "484/484 [==============================] - 4s 8ms/step - loss: 0.5472 - accuracy: 0.8495\n",
      "Epoch 50/50\n",
      "484/484 [==============================] - 4s 8ms/step - loss: 0.5487 - accuracy: 0.8487\n"
     ]
    }
   ],
   "source": [
    "def create_model(total_words, max_sequence_len):\n",
    "    \"\"\"\n",
    "    Creates a text generator model\n",
    "    \n",
    "    Args:\n",
    "        total_words (int): size of the vocabulary for the Embedding layer input\n",
    "        max_sequence_len (int): length of the input sequences\n",
    "    \n",
    "    Returns:\n",
    "        model (tf.keras Model): the text generator model\n",
    "    \"\"\"\n",
    "    model = Sequential()\n",
    "    model.add(Embedding(total_words, 100, input_length=max_sequence_len-1))\n",
    "    model.add(tf.keras.layers.Conv1D(128, 5, activation = 'relu'))\n",
    "    model.add(tf.keras.layers.MaxPooling1D())\n",
    "    model.add(tf.keras.layers.Bidirectional(LSTM(128)))\n",
    "    model.add(Dense(total_words, activation = 'softmax'))\n",
    "\n",
    "    # Compile the model\n",
    "    model.compile(loss='categorical_crossentropy',\n",
    "                  optimizer='Adam',\n",
    "                  metrics=['accuracy'])\n",
    "    \n",
    "    return model\n",
    "\n",
    "# Store untrained model\n",
    "model = create_model(total_words, max_sequence_len)\n",
    "model.summary()\n",
    "\n",
    "# Train model\n",
    "history = model.fit(features, labels, epochs=50, verbose=1)"
   ]
  },
  {
   "attachments": {},
   "cell_type": "markdown",
   "metadata": {},
   "source": [
    "# Plot the Accuracy/Loss for training"
   ]
  },
  {
   "cell_type": "code",
   "execution_count": 8,
   "metadata": {},
   "outputs": [
    {
     "data": {
      "image/png": "[encoded data removed]",
      "text/plain": [
       "<Figure size 640x480 with 1 Axes>"
      ]
     },
     "metadata": {},
     "output_type": "display_data"
    },
    {
     "data": {
      "image/png": "[encoded data removed]",
      "text/plain": [
       "<Figure size 640x480 with 1 Axes>"
      ]
     },
     "metadata": {},
     "output_type": "display_data"
    }
   ],
   "source": [
    "acc = history.history['accuracy']\n",
    "loss = history.history['loss']\n",
    "epochs = range(len(acc))\n",
    "\n",
    "plt.plot(epochs, acc, 'b', label='Training accuracy')\n",
    "plt.title('Training accuracy')\n",
    "plt.figure()\n",
    "plt.plot(epochs, loss, 'b', label='Training Loss')\n",
    "plt.title('Training loss')\n",
    "plt.legend()\n",
    "plt.show()"
   ]
  },
  {
   "attachments": {},
   "cell_type": "markdown",
   "metadata": {},
   "source": [
    "# Predict the next 100 words"
   ]
  },
  {
   "cell_type": "code",
   "execution_count": 9,
   "metadata": {},
   "outputs": [
    {
     "name": "stdout",
     "output_type": "stream",
     "text": [
      "Help me Obi Wan Kenobi, you're my only hope are place within his deeds slave end cross cross mind end slave ' before ill brow sight would gone lie lie me me alone it so fair tell might name to believe knows her thee is confined his sight ' cover assail'd cross cross your place ' survey them the argument of treasure lies die must repair leave so thy best lies near write so so dead truth again a side again fitted fire hideous pen a trees of best part doth sing ' cover grow ill ill name might thy mind go view near sing foes knows none none\n"
     ]
    }
   ],
   "source": [
    "seed_text = \"Help me Obi Wan Kenobi, you're my only hope\"\n",
    "next_words = 100\n",
    "  \n",
    "for _ in range(next_words):\n",
    "\t# Convert the text into sequences\n",
    "\ttoken_list = tokenizer.texts_to_sequences([seed_text])[0]\n",
    "\t# Pad the sequences\n",
    "\ttoken_list = pad_sequences([token_list], maxlen=max_sequence_len-1, padding='pre')\n",
    "\t# Get the probabilities of predicting a word\n",
    "\tpredicted = model.predict(token_list, verbose=0)\n",
    "\t# Choose the next word based on the maximum probability\n",
    "\tpredicted = np.argmax(predicted, axis=-1).item()\n",
    "\t# Get the actual word from the word index\n",
    "\toutput_word = tokenizer.index_word[predicted]\n",
    "\t# Append to the current text\n",
    "\tseed_text += \" \" + output_word\n",
    "\n",
    "print(seed_text)"
   ]
  }
 ],
 "metadata": {
  "kernelspec": {
   "display_name": "Python 3",
   "language": "python",
   "name": "python3"
  },
  "language_info": {
   "codemirror_mode": {
    "name": "ipython",
    "version": 3
   },
   "file_extension": ".py",
   "mimetype": "text/x-python",
   "name": "python",
   "nbconvert_exporter": "python",
   "pygments_lexer": "ipython3",
   "version": "3.10.5 (tags/v3.10.5:f377153, Jun  6 2022, 16:14:13) [MSC v.1929 64 bit (AMD64)]"
  },
  "orig_nbformat": 4,
  "vscode": {
   "interpreter": {
    "hash": "3d20a48179a8a2a37bc322c044c72c380b72e0e53516169f932483b84dd6e522"
   }
  }
 },
 "nbformat": 4,
 "nbformat_minor": 2
}
